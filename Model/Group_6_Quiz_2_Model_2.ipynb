{
  "nbformat": 4,
  "nbformat_minor": 0,
  "metadata": {
    "colab": {
      "provenance": [],
      "gpuType": "T4"
    },
    "kernelspec": {
      "name": "python3",
      "display_name": "Python 3"
    },
    "language_info": {
      "name": "python"
    },
    "accelerator": "GPU"
  },
  "cells": [
    {
      "cell_type": "code",
      "execution_count": null,
      "metadata": {
        "id": "RARm1Sl6DDd6"
      },
      "outputs": [],
      "source": [
        "import tensorflow as tf\n",
        "import numpy as np\n",
        "import pandas as pd\n",
        "import matplotlib.pyplot as plt\n",
        "import seaborn as sns\n",
        "from sklearn.preprocessing import LabelBinarizer\n",
        "from sklearn.model_selection import train_test_split\n",
        "from sklearn.metrics import classification_report"
      ]
    },
    {
      "cell_type": "code",
      "source": [
        "from google.colab import drive\n",
        "drive.mount('/content/drive')"
      ],
      "metadata": {
        "colab": {
          "base_uri": "https://localhost:8080/"
        },
        "id": "VdB8KGqAD-g6",
        "outputId": "67209cf3-082a-449b-c89e-5cf71d1fadf1"
      },
      "execution_count": null,
      "outputs": [
        {
          "output_type": "stream",
          "name": "stdout",
          "text": [
            "Mounted at /content/drive\n"
          ]
        }
      ]
    },
    {
      "cell_type": "code",
      "source": [
        "import os\n",
        "os.chdir('/content/drive/My Drive/ML-Resources/training_data')"
      ],
      "metadata": {
        "id": "OlfLpaFaD_Ey"
      },
      "execution_count": null,
      "outputs": []
    },
    {
      "cell_type": "markdown",
      "source": [
        "## Mengambil file"
      ],
      "metadata": {
        "id": "XRa7ytq45lrF"
      }
    },
    {
      "cell_type": "code",
      "source": [
        "import cv2\n",
        "import numpy as np\n",
        "from tqdm import tqdm\n",
        "import os\n",
        "\n",
        "# Define your desired image width and height\n",
        "your_image_width = 64\n",
        "your_image_height = 64\n",
        "\n",
        "data = []\n",
        "labels = []\n",
        "\n",
        "# Assuming the code is in the directory where the images are located\n",
        "current_directory = '/content/drive/My Drive/ML-Resources/training_data'\n",
        "\n",
        "for folder_name in os.listdir(current_directory):\n",
        "    folder_path = os.path.join(current_directory, folder_name)\n",
        "\n",
        "    for img_name in tqdm(os.listdir(folder_path)):\n",
        "        img_path = os.path.join(folder_path, img_name)\n",
        "        img = cv2.imread(img_path)\n",
        "        img = cv2.resize(img, (your_image_width, your_image_height))\n",
        "        data.append(img)\n",
        "        labels.append(folder_name)\n",
        "\n",
        "data = np.array(data)\n",
        "labels = np.array(labels)\n"
      ],
      "metadata": {
        "colab": {
          "base_uri": "https://localhost:8080/"
        },
        "id": "e6Y1VmHkEjMg",
        "outputId": "feffa108-5fe7-432c-fa96-970416d334bc"
      },
      "execution_count": null,
      "outputs": [
        {
          "output_type": "stream",
          "name": "stderr",
          "text": [
            "100%|██████████| 573/573 [00:09<00:00, 58.65it/s] \n",
            "100%|██████████| 573/573 [00:09<00:00, 63.03it/s] \n",
            "100%|██████████| 573/573 [00:08<00:00, 66.97it/s] \n",
            "100%|██████████| 573/573 [00:07<00:00, 77.22it/s] \n",
            "100%|██████████| 573/573 [00:08<00:00, 69.53it/s] \n",
            "100%|██████████| 573/573 [00:09<00:00, 57.42it/s] \n",
            "100%|██████████| 573/573 [00:08<00:00, 69.21it/s] \n",
            "100%|██████████| 573/573 [00:10<00:00, 56.89it/s] \n",
            "100%|██████████| 573/573 [00:10<00:00, 54.61it/s] \n",
            "100%|██████████| 573/573 [00:09<00:00, 63.27it/s] \n",
            "100%|██████████| 573/573 [00:08<00:00, 66.11it/s] \n",
            "100%|██████████| 394/394 [00:05<00:00, 71.25it/s] \n",
            "100%|██████████| 573/573 [00:08<00:00, 66.53it/s] \n",
            "0it [00:00, ?it/s]\n",
            "0it [00:00, ?it/s]\n",
            "0it [00:00, ?it/s]\n",
            "0it [00:00, ?it/s]\n",
            "0it [00:00, ?it/s]\n",
            "0it [00:00, ?it/s]\n",
            "0it [00:00, ?it/s]\n",
            "0it [00:00, ?it/s]\n",
            "0it [00:00, ?it/s]\n",
            "0it [00:00, ?it/s]\n",
            "0it [00:00, ?it/s]\n",
            "0it [00:00, ?it/s]\n",
            "0it [00:00, ?it/s]\n",
            "0it [00:00, ?it/s]\n",
            "0it [00:00, ?it/s]\n",
            "0it [00:00, ?it/s]\n",
            "0it [00:00, ?it/s]\n",
            "0it [00:00, ?it/s]\n",
            "0it [00:00, ?it/s]\n",
            "0it [00:00, ?it/s]\n",
            "0it [00:00, ?it/s]\n",
            "0it [00:00, ?it/s]\n",
            "0it [00:00, ?it/s]\n"
          ]
        }
      ]
    },
    {
      "cell_type": "code",
      "source": [
        "plt.imshow(data[0])"
      ],
      "metadata": {
        "colab": {
          "base_uri": "https://localhost:8080/",
          "height": 449
        },
        "id": "kOLXweKGE-ix",
        "outputId": "a0c39ee7-d847-4103-f6ba-db3ba86ace1c"
      },
      "execution_count": null,
      "outputs": [
        {
          "output_type": "execute_result",
          "data": {
            "text/plain": [
              "<matplotlib.image.AxesImage at 0x7d36ab61fa90>"
            ]
          },
          "metadata": {},
          "execution_count": 5
        },
        {
          "output_type": "display_data",
          "data": {
            "text/plain": [
              "<Figure size 640x480 with 1 Axes>"
            ],
            "image/png": "[encoded data removed]"
          },
          "metadata": {}
        }
      ]
    },
    {
      "cell_type": "code",
      "source": [
        "labels[0]"
      ],
      "metadata": {
        "colab": {
          "base_uri": "https://localhost:8080/",
          "height": 36
        },
        "id": "SRtAKxbeGcrG",
        "outputId": "f682fb77-1d65-451c-c79b-8ad8a9bcf649"
      },
      "execution_count": null,
      "outputs": [
        {
          "output_type": "execute_result",
          "data": {
            "text/plain": [
              "'8'"
            ],
            "application/vnd.google.colaboratory.intrinsic+json": {
              "type": "string"
            }
          },
          "metadata": {},
          "execution_count": 6
        }
      ]
    },
    {
      "cell_type": "code",
      "source": [
        "import tensorflow as tf\n",
        "from sklearn.model_selection import train_test_split\n",
        "from sklearn.preprocessing import LabelBinarizer\n",
        "from tensorflow.keras.models import Sequential\n",
        "from tensorflow.keras.layers import Conv2D, MaxPooling2D, Flatten, Dense, Dropout\n",
        "from tensorflow.keras.preprocessing.image import ImageDataGenerator"
      ],
      "metadata": {
        "id": "1I2XnIneG0FN"
      },
      "execution_count": null,
      "outputs": []
    },
    {
      "cell_type": "markdown",
      "source": [
        "## Preprocessing"
      ],
      "metadata": {
        "id": "2m1Blm-U5yWq"
      }
    },
    {
      "cell_type": "code",
      "source": [
        "# Preprocess data\n",
        "data = data.astype('float32') / 255.0  # Normalize pixel values to be between 0 and 1\n",
        "data = data.reshape((data.shape[0], your_image_width, your_image_height, 3))  # Reshape data to match input shape"
      ],
      "metadata": {
        "id": "AVRMH_vjIq6f"
      },
      "execution_count": null,
      "outputs": []
    },
    {
      "cell_type": "code",
      "source": [
        "# Assuming you are using one-hot encoding\n",
        "label_binarizer = LabelBinarizer()\n",
        "labels_one_hot = label_binarizer.fit_transform(labels)\n",
        "labels_one_hot = tf.keras.utils.to_categorical(labels_one_hot, num_classes=36)  # Assuming 36 classes for binary classification\n",
        "\n",
        "# Convert one-hot encoded labels to a single column of probabilities\n",
        "y_train = labels_one_hot[:, 0]  # Assuming binary classification\n",
        "y_test = labels_one_hot[:, 0]"
      ],
      "metadata": {
        "id": "iOKosMQpIyXy"
      },
      "execution_count": null,
      "outputs": []
    },
    {
      "cell_type": "markdown",
      "source": [
        "## Split Data"
      ],
      "metadata": {
        "id": "3QVewxug54Sf"
      }
    },
    {
      "cell_type": "code",
      "source": [
        "# Convert labels to binary format (0 or 1)\n",
        "y_train_binary = np.argmax(y_train, axis=1)\n",
        "y_test_binary = np.argmax(y_test, axis=1)\n",
        "\n",
        "# Split the data into training and testing sets\n",
        "X_train, X_test, y_train, y_test = train_test_split(data, y_train_binary, test_size=0.2, random_state=42)"
      ],
      "metadata": {
        "id": "uaet-66oI076"
      },
      "execution_count": null,
      "outputs": []
    },
    {
      "cell_type": "markdown",
      "source": [
        "## Augmentation"
      ],
      "metadata": {
        "id": "esXjx0x-56x2"
      }
    },
    {
      "cell_type": "code",
      "source": [
        "# Data Augmentation\n",
        "datagen = ImageDataGenerator(\n",
        "    rotation_range=20,\n",
        "    width_shift_range=0.2,\n",
        "    height_shift_range=0.2,\n",
        "    shear_range=0.2,\n",
        "    zoom_range=0.2,\n",
        "    horizontal_flip=True,\n",
        "    fill_mode='nearest'\n",
        ")"
      ],
      "metadata": {
        "id": "mLJg0wFqI3Iq"
      },
      "execution_count": null,
      "outputs": []
    },
    {
      "cell_type": "code",
      "source": [
        "datagen.fit(data)  # Fit the data augmentation pipeline to the reshaped training data"
      ],
      "metadata": {
        "id": "GTep9wC5MJAA"
      },
      "execution_count": null,
      "outputs": []
    },
    {
      "cell_type": "markdown",
      "source": [
        "## Build CNN Model"
      ],
      "metadata": {
        "id": "peWsPX5u6DEM"
      }
    },
    {
      "cell_type": "code",
      "source": [
        "  # Build CNN Model\n",
        "  model = Sequential()\n",
        "\n",
        "  model.add(Conv2D(32, (3, 3), activation='relu', input_shape=(your_image_width, your_image_height, 3)))\n",
        "  model.add(MaxPooling2D(2, 2))\n",
        "\n",
        "  model.add(Conv2D(64, (3, 3), activation='relu'))\n",
        "  model.add(MaxPooling2D(2, 2))\n",
        "\n",
        "  model.add(Conv2D(128, (3, 3), activation='relu'))\n",
        "  model.add(MaxPooling2D(2, 2))\n",
        "\n",
        "  model.add(Flatten())\n",
        "  model.add(Dense(256, activation='relu'))\n",
        "  model.add(Dropout(0.5))\n",
        "  model.add(Dense(1, activation='sigmoid'))  # Using sigmoid for binary classification\n",
        "\n",
        "  model.compile(optimizer='adam', loss='binary_crossentropy', metrics=['accuracy'])\n",
        "\n",
        "  # Train the model with data augmentation\n",
        "  batch_size = 32\n",
        "  history = model.fit(datagen.flow(X_train, y_train, batch_size=batch_size),\n",
        "                      steps_per_epoch=len(X_train) // batch_size,\n",
        "                      epochs=20,\n",
        "                      validation_data=(X_test, y_test),\n",
        "                      shuffle=True)\n",
        "\n",
        "  # Save the model to an HDF5 file\n",
        "  model.save('/content/drive/My Drive/ML-Resources/my_model.h5')"
      ],
      "metadata": {
        "colab": {
          "base_uri": "https://localhost:8080/"
        },
        "id": "PR-opDVYI7Lm",
        "outputId": "f77b07d4-d418-4011-c88b-830dcde9aef6"
      },
      "execution_count": null,
      "outputs": [
        {
          "output_type": "stream",
          "name": "stdout",
          "text": [
            "Epoch 1/20\n",
            "181/181 [==============================] - 24s 64ms/step - loss: 0.2461 - accuracy: 0.9215 - val_loss: 0.1026 - val_accuracy: 0.9697\n",
            "Epoch 2/20\n",
            "181/181 [==============================] - 9s 52ms/step - loss: 0.1662 - accuracy: 0.9353 - val_loss: 0.0930 - val_accuracy: 0.9732\n",
            "Epoch 3/20\n",
            "181/181 [==============================] - 10s 57ms/step - loss: 0.1278 - accuracy: 0.9511 - val_loss: 0.0554 - val_accuracy: 0.9828\n",
            "Epoch 4/20\n",
            "181/181 [==============================] - 12s 64ms/step - loss: 0.1257 - accuracy: 0.9521 - val_loss: 0.0628 - val_accuracy: 0.9746\n",
            "Epoch 5/20\n",
            "181/181 [==============================] - 12s 64ms/step - loss: 0.1037 - accuracy: 0.9652 - val_loss: 0.0583 - val_accuracy: 0.9766\n",
            "Epoch 6/20\n",
            "181/181 [==============================] - 10s 54ms/step - loss: 0.0946 - accuracy: 0.9675 - val_loss: 0.0271 - val_accuracy: 0.9904\n",
            "Epoch 7/20\n",
            "181/181 [==============================] - 12s 65ms/step - loss: 0.0767 - accuracy: 0.9735 - val_loss: 0.0177 - val_accuracy: 0.9945\n",
            "Epoch 8/20\n",
            "181/181 [==============================] - 8s 45ms/step - loss: 0.0689 - accuracy: 0.9723 - val_loss: 0.0238 - val_accuracy: 0.9924\n",
            "Epoch 9/20\n",
            "181/181 [==============================] - 12s 65ms/step - loss: 0.0720 - accuracy: 0.9754 - val_loss: 0.0188 - val_accuracy: 0.9972\n",
            "Epoch 10/20\n",
            "181/181 [==============================] - 10s 55ms/step - loss: 0.0576 - accuracy: 0.9801 - val_loss: 0.0151 - val_accuracy: 0.9966\n",
            "Epoch 11/20\n",
            "181/181 [==============================] - 10s 56ms/step - loss: 0.0619 - accuracy: 0.9789 - val_loss: 0.0224 - val_accuracy: 0.9917\n",
            "Epoch 12/20\n",
            "181/181 [==============================] - 12s 65ms/step - loss: 0.0563 - accuracy: 0.9786 - val_loss: 0.0112 - val_accuracy: 0.9986\n",
            "Epoch 13/20\n",
            "181/181 [==============================] - 11s 64ms/step - loss: 0.0543 - accuracy: 0.9824 - val_loss: 0.0092 - val_accuracy: 0.9986\n",
            "Epoch 14/20\n",
            "181/181 [==============================] - 10s 53ms/step - loss: 0.0609 - accuracy: 0.9806 - val_loss: 0.0192 - val_accuracy: 0.9938\n",
            "Epoch 15/20\n",
            "181/181 [==============================] - 10s 56ms/step - loss: 0.0485 - accuracy: 0.9832 - val_loss: 0.0107 - val_accuracy: 0.9972\n",
            "Epoch 16/20\n",
            "181/181 [==============================] - 11s 62ms/step - loss: 0.0495 - accuracy: 0.9824 - val_loss: 0.0067 - val_accuracy: 0.9993\n",
            "Epoch 17/20\n",
            "181/181 [==============================] - 12s 65ms/step - loss: 0.0496 - accuracy: 0.9831 - val_loss: 0.0080 - val_accuracy: 0.9986\n",
            "Epoch 18/20\n",
            "181/181 [==============================] - 10s 54ms/step - loss: 0.0448 - accuracy: 0.9846 - val_loss: 0.0088 - val_accuracy: 0.9986\n",
            "Epoch 19/20\n",
            "181/181 [==============================] - 10s 55ms/step - loss: 0.0414 - accuracy: 0.9863 - val_loss: 0.0041 - val_accuracy: 0.9993\n",
            "Epoch 20/20\n",
            "181/181 [==============================] - 12s 64ms/step - loss: 0.0383 - accuracy: 0.9863 - val_loss: 0.0049 - val_accuracy: 0.9986\n"
          ]
        },
        {
          "output_type": "stream",
          "name": "stderr",
          "text": [
            "/usr/local/lib/python3.10/dist-packages/keras/src/engine/training.py:3079: UserWarning: You are saving your model as an HDF5 file via `model.save()`. This file format is considered legacy. We recommend using instead the native Keras format, e.g. `model.save('my_model.keras')`.\n",
            "  saving_api.save_model(\n"
          ]
        }
      ]
    },
    {
      "cell_type": "markdown",
      "source": [
        "## Test Data"
      ],
      "metadata": {
        "id": "A4gOkroA6LWv"
      }
    },
    {
      "cell_type": "code",
      "source": [
        "# Assuming you have y_test from the previous code\n",
        "# Check the shape of y_test before applying np.argmax\n",
        "print(\"Shape of y_test before argmax:\", y_test.shape)\n",
        "\n",
        "# Apply np.argmax if y_test has more than one dimension\n",
        "if len(y_test.shape) > 1:\n",
        "    y_test_binary = np.argmax(y_test, axis=1)\n",
        "else:\n",
        "    # Handle the case where y_test is already one-dimensional\n",
        "    y_test_binary = y_test\n",
        "\n",
        "# Assuming you have X_test and y_test_binary from the previous code\n",
        "# Evaluate the model on the test set\n",
        "loss, accuracy = model.evaluate(X_test, y_test_binary)\n",
        "\n",
        "print(f'Test Loss: {loss:.4f}')\n",
        "print(f'Test Accuracy: {accuracy * 100:.2f}%')\n",
        "\n",
        "# Make predictions on a few samples\n",
        "num_samples_to_predict = 5\n",
        "sample_indices = np.random.choice(len(X_test), num_samples_to_predict, replace=False)\n",
        "\n",
        "for idx in sample_indices:\n",
        "    sample = X_test[idx].reshape(1, your_image_width, your_image_height, 3)\n",
        "    true_label = y_test_binary[idx]\n",
        "\n",
        "    # Predict the class probabilities\n",
        "    predictions = model.predict(sample)\n",
        "    predicted_label = np.argmax(predictions)\n",
        "\n",
        "    print(f'\\nSample {idx + 1}:')\n",
        "    print(f'True Label: {true_label}')\n",
        "    print(f'Predicted Label: {predicted_label}')\n",
        "    print(f'Class Probabilities: {predictions}')\n"
      ],
      "metadata": {
        "colab": {
          "base_uri": "https://localhost:8080/"
        },
        "id": "ZUmHm929JRaQ",
        "outputId": "02b19d14-6cc7-441a-f155-64e6674b088f"
      },
      "execution_count": null,
      "outputs": [
        {
          "output_type": "stream",
          "name": "stdout",
          "text": [
            "Shape of y_test before argmax: (1454,)\n",
            "46/46 [==============================] - 0s 4ms/step - loss: 0.0049 - accuracy: 0.9986\n",
            "Test Loss: 0.0049\n",
            "Test Accuracy: 99.86%\n",
            "1/1 [==============================] - 0s 192ms/step\n",
            "\n",
            "Sample 860:\n",
            "True Label: 0\n",
            "Predicted Label: 0\n",
            "Class Probabilities: [[6.537906e-11]]\n",
            "1/1 [==============================] - 0s 32ms/step\n",
            "\n",
            "Sample 636:\n",
            "True Label: 0\n",
            "Predicted Label: 0\n",
            "Class Probabilities: [[1.1497918e-07]]\n",
            "1/1 [==============================] - 0s 30ms/step\n",
            "\n",
            "Sample 502:\n",
            "True Label: 0\n",
            "Predicted Label: 0\n",
            "Class Probabilities: [[9.622013e-11]]\n",
            "1/1 [==============================] - 0s 27ms/step\n",
            "\n",
            "Sample 499:\n",
            "True Label: 0\n",
            "Predicted Label: 0\n",
            "Class Probabilities: [[4.6130285e-08]]\n",
            "1/1 [==============================] - 0s 26ms/step\n",
            "\n",
            "Sample 1273:\n",
            "True Label: 0\n",
            "Predicted Label: 0\n",
            "Class Probabilities: [[1.1276247e-15]]\n"
          ]
        }
      ]
    },
    {
      "cell_type": "code",
      "source": [],
      "metadata": {
        "id": "6r-XObULQ7k7"
      },
      "execution_count": null,
      "outputs": []
    }
  ]
}